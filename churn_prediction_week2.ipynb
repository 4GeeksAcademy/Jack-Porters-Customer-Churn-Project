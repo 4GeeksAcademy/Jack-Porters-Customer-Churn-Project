{
 "cells": [
  {
   "cell_type": "markdown",
   "id": "18546d64",
   "metadata": {},
   "source": [
    "# Churn Prediction Project - Week 2: EDA & Baseline Model"
   ]
  },
  {
   "cell_type": "markdown",
   "id": "efe1106a",
   "metadata": {},
   "source": [
    "## 1. Project Setup"
   ]
  },
  {
   "cell_type": "code",
   "execution_count": 79,
   "id": "36ce0b77",
   "metadata": {},
   "outputs": [],
   "source": [
    "\n",
    "import pandas as pd\n",
    "import numpy as np\n",
    "import matplotlib.pyplot as plt\n",
    "import seaborn as sns\n",
    "\n",
    "from sklearn.model_selection import train_test_split\n",
    "from sklearn.preprocessing import LabelEncoder, StandardScaler\n",
    "from sklearn.linear_model import LogisticRegression\n",
    "from sklearn.metrics import classification_report, confusion_matrix, roc_auc_score, roc_curve\n"
   ]
  },
  {
   "cell_type": "markdown",
   "id": "49e74ce0",
   "metadata": {},
   "source": [
    "## 2. Load Dataset"
   ]
  },
  {
   "cell_type": "code",
   "execution_count": 80,
   "id": "9ab950af",
   "metadata": {},
   "outputs": [
    {
     "data": {
      "text/html": [
       "<div>\n",
       "<style scoped>\n",
       "    .dataframe tbody tr th:only-of-type {\n",
       "        vertical-align: middle;\n",
       "    }\n",
       "\n",
       "    .dataframe tbody tr th {\n",
       "        vertical-align: top;\n",
       "    }\n",
       "\n",
       "    .dataframe thead th {\n",
       "        text-align: right;\n",
       "    }\n",
       "</style>\n",
       "<table border=\"1\" class=\"dataframe\">\n",
       "  <thead>\n",
       "    <tr style=\"text-align: right;\">\n",
       "      <th></th>\n",
       "      <th>gender</th>\n",
       "      <th>SeniorCitizen</th>\n",
       "      <th>Partner</th>\n",
       "      <th>Dependents</th>\n",
       "      <th>tenure</th>\n",
       "      <th>PhoneService</th>\n",
       "      <th>MultipleLines</th>\n",
       "      <th>InternetService</th>\n",
       "      <th>OnlineSecurity</th>\n",
       "      <th>OnlineBackup</th>\n",
       "      <th>DeviceProtection</th>\n",
       "      <th>TechSupport</th>\n",
       "      <th>StreamingTV</th>\n",
       "      <th>StreamingMovies</th>\n",
       "      <th>Contract</th>\n",
       "      <th>PaperlessBilling</th>\n",
       "      <th>PaymentMethod</th>\n",
       "      <th>MonthlyCharges</th>\n",
       "      <th>TotalCharges</th>\n",
       "      <th>Churn</th>\n",
       "    </tr>\n",
       "  </thead>\n",
       "  <tbody>\n",
       "    <tr>\n",
       "      <th>0</th>\n",
       "      <td>Female</td>\n",
       "      <td>0</td>\n",
       "      <td>Yes</td>\n",
       "      <td>No</td>\n",
       "      <td>1</td>\n",
       "      <td>No</td>\n",
       "      <td>No phone service</td>\n",
       "      <td>DSL</td>\n",
       "      <td>No</td>\n",
       "      <td>Yes</td>\n",
       "      <td>No</td>\n",
       "      <td>No</td>\n",
       "      <td>No</td>\n",
       "      <td>No</td>\n",
       "      <td>Month-to-month</td>\n",
       "      <td>Yes</td>\n",
       "      <td>Electronic check</td>\n",
       "      <td>$29.85</td>\n",
       "      <td>$29.85</td>\n",
       "      <td>No</td>\n",
       "    </tr>\n",
       "    <tr>\n",
       "      <th>1</th>\n",
       "      <td>Male</td>\n",
       "      <td>0</td>\n",
       "      <td>No</td>\n",
       "      <td>No</td>\n",
       "      <td>34</td>\n",
       "      <td>Yes</td>\n",
       "      <td>No</td>\n",
       "      <td>DSL</td>\n",
       "      <td>Yes</td>\n",
       "      <td>No</td>\n",
       "      <td>Yes</td>\n",
       "      <td>No</td>\n",
       "      <td>No</td>\n",
       "      <td>No</td>\n",
       "      <td>One year</td>\n",
       "      <td>No</td>\n",
       "      <td>Mailed check</td>\n",
       "      <td>$56.95</td>\n",
       "      <td>$1,889.50</td>\n",
       "      <td>No</td>\n",
       "    </tr>\n",
       "    <tr>\n",
       "      <th>2</th>\n",
       "      <td>Male</td>\n",
       "      <td>0</td>\n",
       "      <td>No</td>\n",
       "      <td>No</td>\n",
       "      <td>2</td>\n",
       "      <td>Yes</td>\n",
       "      <td>No</td>\n",
       "      <td>DSL</td>\n",
       "      <td>Yes</td>\n",
       "      <td>Yes</td>\n",
       "      <td>No</td>\n",
       "      <td>No</td>\n",
       "      <td>No</td>\n",
       "      <td>No</td>\n",
       "      <td>Month-to-month</td>\n",
       "      <td>Yes</td>\n",
       "      <td>Mailed check</td>\n",
       "      <td>$53.85</td>\n",
       "      <td>$108.15</td>\n",
       "      <td>Yes</td>\n",
       "    </tr>\n",
       "    <tr>\n",
       "      <th>3</th>\n",
       "      <td>Male</td>\n",
       "      <td>0</td>\n",
       "      <td>No</td>\n",
       "      <td>No</td>\n",
       "      <td>45</td>\n",
       "      <td>No</td>\n",
       "      <td>No phone service</td>\n",
       "      <td>DSL</td>\n",
       "      <td>Yes</td>\n",
       "      <td>No</td>\n",
       "      <td>Yes</td>\n",
       "      <td>Yes</td>\n",
       "      <td>No</td>\n",
       "      <td>No</td>\n",
       "      <td>One year</td>\n",
       "      <td>No</td>\n",
       "      <td>Bank transfer (automatic)</td>\n",
       "      <td>$42.30</td>\n",
       "      <td>$1,840.75</td>\n",
       "      <td>No</td>\n",
       "    </tr>\n",
       "    <tr>\n",
       "      <th>4</th>\n",
       "      <td>Female</td>\n",
       "      <td>0</td>\n",
       "      <td>No</td>\n",
       "      <td>No</td>\n",
       "      <td>2</td>\n",
       "      <td>Yes</td>\n",
       "      <td>No</td>\n",
       "      <td>Fiber optic</td>\n",
       "      <td>No</td>\n",
       "      <td>No</td>\n",
       "      <td>No</td>\n",
       "      <td>No</td>\n",
       "      <td>No</td>\n",
       "      <td>No</td>\n",
       "      <td>Month-to-month</td>\n",
       "      <td>Yes</td>\n",
       "      <td>Electronic check</td>\n",
       "      <td>$70.70</td>\n",
       "      <td>$151.65</td>\n",
       "      <td>Yes</td>\n",
       "    </tr>\n",
       "  </tbody>\n",
       "</table>\n",
       "</div>"
      ],
      "text/plain": [
       "   gender  SeniorCitizen Partner Dependents  tenure PhoneService  \\\n",
       "0  Female              0     Yes         No       1           No   \n",
       "1    Male              0      No         No      34          Yes   \n",
       "2    Male              0      No         No       2          Yes   \n",
       "3    Male              0      No         No      45           No   \n",
       "4  Female              0      No         No       2          Yes   \n",
       "\n",
       "      MultipleLines InternetService OnlineSecurity OnlineBackup  \\\n",
       "0  No phone service             DSL             No          Yes   \n",
       "1                No             DSL            Yes           No   \n",
       "2                No             DSL            Yes          Yes   \n",
       "3  No phone service             DSL            Yes           No   \n",
       "4                No     Fiber optic             No           No   \n",
       "\n",
       "  DeviceProtection TechSupport StreamingTV StreamingMovies        Contract  \\\n",
       "0               No          No          No              No  Month-to-month   \n",
       "1              Yes          No          No              No        One year   \n",
       "2               No          No          No              No  Month-to-month   \n",
       "3              Yes         Yes          No              No        One year   \n",
       "4               No          No          No              No  Month-to-month   \n",
       "\n",
       "  PaperlessBilling              PaymentMethod  MonthlyCharges   TotalCharges   \\\n",
       "0              Yes           Electronic check          $29.85         $29.85    \n",
       "1               No               Mailed check          $56.95      $1,889.50    \n",
       "2              Yes               Mailed check          $53.85        $108.15    \n",
       "3               No  Bank transfer (automatic)          $42.30      $1,840.75    \n",
       "4              Yes           Electronic check          $70.70        $151.65    \n",
       "\n",
       "  Churn  \n",
       "0    No  \n",
       "1    No  \n",
       "2   Yes  \n",
       "3    No  \n",
       "4   Yes  "
      ]
     },
     "execution_count": 80,
     "metadata": {},
     "output_type": "execute_result"
    }
   ],
   "source": [
    "\n",
    "# Load Telco Customer Churn dataset \n",
    "df = pd.read_csv(\"Customer Churn Project Data.csv\")\n",
    "df.head()\n"
   ]
  },
  {
   "cell_type": "code",
   "execution_count": 81,
   "id": "aff9369e",
   "metadata": {},
   "outputs": [
    {
     "name": "stdout",
     "output_type": "stream",
     "text": [
      "<class 'pandas.core.frame.DataFrame'>\n",
      "RangeIndex: 7043 entries, 0 to 7042\n",
      "Data columns (total 20 columns):\n",
      " #   Column            Non-Null Count  Dtype \n",
      "---  ------            --------------  ----- \n",
      " 0   gender            7043 non-null   object\n",
      " 1   SeniorCitizen     7043 non-null   int64 \n",
      " 2   Partner           7043 non-null   object\n",
      " 3   Dependents        7043 non-null   object\n",
      " 4   tenure            7043 non-null   int64 \n",
      " 5   PhoneService      7043 non-null   object\n",
      " 6   MultipleLines     7043 non-null   object\n",
      " 7   InternetService   7043 non-null   object\n",
      " 8   OnlineSecurity    7043 non-null   object\n",
      " 9   OnlineBackup      7043 non-null   object\n",
      " 10  DeviceProtection  7043 non-null   object\n",
      " 11  TechSupport       7043 non-null   object\n",
      " 12  StreamingTV       7043 non-null   object\n",
      " 13  StreamingMovies   7043 non-null   object\n",
      " 14  Contract          7043 non-null   object\n",
      " 15  PaperlessBilling  7043 non-null   object\n",
      " 16  PaymentMethod     7043 non-null   object\n",
      " 17   MonthlyCharges   7043 non-null   object\n",
      " 18   TotalCharges     7043 non-null   object\n",
      " 19  Churn             7043 non-null   object\n",
      "dtypes: int64(2), object(18)\n",
      "memory usage: 1.1+ MB\n"
     ]
    }
   ],
   "source": [
    "df.info()"
   ]
  },
  {
   "cell_type": "code",
   "execution_count": 82,
   "id": "48b41e5d",
   "metadata": {},
   "outputs": [],
   "source": [
    "# Remove leading/trailing spaces from all column names\n",
    "df.columns = df.columns.str.strip()\n"
   ]
  },
  {
   "cell_type": "markdown",
   "id": "10b6d7ea",
   "metadata": {},
   "source": [
    "## 3. Explore Data (EDA)"
   ]
  },
  {
   "cell_type": "code",
   "execution_count": 83,
   "id": "0daeea19",
   "metadata": {},
   "outputs": [
    {
     "name": "stdout",
     "output_type": "stream",
     "text": [
      "Index(['gender', 'SeniorCitizen', 'Partner', 'Dependents', 'tenure',\n",
      "       'PhoneService', 'MultipleLines', 'InternetService', 'OnlineSecurity',\n",
      "       'OnlineBackup', 'DeviceProtection', 'TechSupport', 'StreamingTV',\n",
      "       'StreamingMovies', 'Contract', 'PaperlessBilling', 'PaymentMethod',\n",
      "       'MonthlyCharges', 'TotalCharges', 'Churn'],\n",
      "      dtype='object')\n"
     ]
    }
   ],
   "source": [
    "print(df.columns)\n"
   ]
  },
  {
   "cell_type": "code",
   "execution_count": 84,
   "id": "b6da60f1",
   "metadata": {},
   "outputs": [
    {
     "name": "stdout",
     "output_type": "stream",
     "text": [
      "Shape: (7043, 20)\n",
      "Columns: ['gender', 'SeniorCitizen', 'Partner', 'Dependents', 'tenure', 'PhoneService', 'MultipleLines', 'InternetService', 'OnlineSecurity', 'OnlineBackup', 'DeviceProtection', 'TechSupport', 'StreamingTV', 'StreamingMovies', 'Contract', 'PaperlessBilling', 'PaymentMethod', 'MonthlyCharges', 'TotalCharges', 'Churn']\n",
      "dtypes:\n",
      " gender              object\n",
      "SeniorCitizen        int64\n",
      "Partner             object\n",
      "Dependents          object\n",
      "tenure               int64\n",
      "PhoneService        object\n",
      "MultipleLines       object\n",
      "InternetService     object\n",
      "OnlineSecurity      object\n",
      "OnlineBackup        object\n",
      "DeviceProtection    object\n",
      "TechSupport         object\n",
      "StreamingTV         object\n",
      "StreamingMovies     object\n",
      "Contract            object\n",
      "PaperlessBilling    object\n",
      "PaymentMethod       object\n",
      "MonthlyCharges      object\n",
      "TotalCharges        object\n",
      "Churn               object\n",
      "dtype: object\n",
      "\n",
      "Churn unique: ['No' 'Yes']\n",
      "Churn value counts:\n",
      " Churn\n",
      "No     5174\n",
      "Yes    1869\n",
      "Name: count, dtype: int64\n",
      "\n",
      "Contract unique: ['Month-to-month' 'One year' 'Two year']\n",
      "Contract value counts:\n",
      " Contract\n",
      "Month-to-month    3875\n",
      "Two year          1695\n",
      "One year          1473\n",
      "Name: count, dtype: int64\n",
      "\n",
      "NaNs in key cols:\n",
      " Churn             0\n",
      "Contract          0\n",
      "MonthlyCharges    0\n",
      "TotalCharges      0\n",
      "tenure            0\n",
      "dtype: int64\n"
     ]
    },
    {
     "name": "stderr",
     "output_type": "stream",
     "text": [
      "/home/codespace/.local/lib/python3.12/site-packages/numpy/lib/_nanfunctions_impl.py:1214: RuntimeWarning: Mean of empty slice\n",
      "  return np.nanmean(a, axis, out=out, keepdims=keepdims)\n",
      "/home/codespace/.local/lib/python3.12/site-packages/numpy/lib/_nanfunctions_impl.py:1214: RuntimeWarning: Mean of empty slice\n",
      "  return np.nanmean(a, axis, out=out, keepdims=keepdims)\n"
     ]
    }
   ],
   "source": [
    "\n",
    "print(\"Shape:\", df.shape)\n",
    "print(\"Columns:\", list(df.columns))\n",
    "print(\"dtypes:\\n\", df.dtypes)\n",
    "\n",
    "print(\"\\nChurn unique:\", df[\"Churn\"].unique()[:10])\n",
    "print(\"Churn value counts:\\n\", df[\"Churn\"].value_counts(dropna=False))\n",
    "\n",
    "print(\"\\nContract unique:\", df[\"Contract\"].unique()[:10])\n",
    "print(\"Contract value counts:\\n\", df[\"Contract\"].value_counts(dropna=False))\n",
    "\n",
    "print(\"\\nNaNs in key cols:\\n\", df[[\"Churn\",\"Contract\",\"MonthlyCharges\",\"TotalCharges\",\"tenure\"]].isna().sum())\n",
    "\n",
    "# Strip column names (you already did this)\n",
    "df.columns = df.columns.str.strip()\n",
    "\n",
    "# Only coerce numeric columns; DO NOT apply regex to 'Churn' or 'Contract'\n",
    "for col in [\"MonthlyCharges\", \"TotalCharges\", \"tenure\"]:\n",
    "    df[col] = pd.to_numeric(df[col], errors=\"coerce\")\n",
    "\n",
    "# Fix label whitespace\n",
    "for col in [\"Churn\", \"Contract\", \"Partner\", \"Dependents\"]:\n",
    "    df[col] = df[col].astype(str).str.strip()\n",
    "\n",
    "# Keep only valid churn labels\n",
    "df = df[df[\"Churn\"].isin([\"Yes\", \"No\"])]\n",
    "\n",
    "# Handle missing numerics safely (don’t drop whole dataset)\n",
    "df[\"TotalCharges\"] = df[\"TotalCharges\"].fillna(df[\"TotalCharges\"].median())\n",
    "df[\"MonthlyCharges\"] = df[\"MonthlyCharges\"].fillna(df[\"MonthlyCharges\"].median())\n",
    "df[\"tenure\"] = df[\"tenure\"].fillna(0).astype(int)\n",
    "\n"
   ]
  },
  {
   "cell_type": "code",
   "execution_count": 85,
   "id": "66a6e980",
   "metadata": {},
   "outputs": [
    {
     "data": {
      "image/png": "[encoded data removed]",
      "text/plain": [
       "<Figure size 1200x600 with 1 Axes>"
      ]
     },
     "metadata": {},
     "output_type": "display_data"
    },
    {
     "data": {
      "image/png": "[encoded data removed]",
      "text/plain": [
       "<Figure size 800x300 with 2 Axes>"
      ]
     },
     "metadata": {},
     "output_type": "display_data"
    }
   ],
   "source": [
    "# Percentage churn by payment method\n",
    "payment_churn = (\n",
    "    df.groupby(\"PaymentMethod\")[\"Churn\"]\n",
    "      .value_counts(normalize=True)\n",
    "      .mul(100)\n",
    "      .rename(\"percentage\")\n",
    "      .reset_index()\n",
    ")\n",
    "\n",
    "plt.figure(figsize=(12,6))\n",
    "sns.barplot(data=payment_churn, x=\"PaymentMethod\", y=\"percentage\", hue=\"Churn\")\n",
    "plt.title(\"Churn Percentage by Payment Method\")\n",
    "plt.xlabel(\"Payment Method\")\n",
    "plt.ylabel(\"Churn Percentage (%)\")\n",
    "plt.xticks(rotation=20)\n",
    "plt.tight_layout()\n",
    "plt.show()\n",
    "\n",
    "fig, axes = plt.subplots(1, 2, figsize=(8,3))  # 2 plots side by side\n",
    "\n",
    "sns.countplot(data=df, x=\"Churn\", ax=axes[0])\n",
    "axes[0].set_title(\"Churn Distribution\", fontsize=10)\n",
    "\n",
    "sns.countplot(data=df, x=\"Contract\", hue=\"Churn\", ax=axes[1])\n",
    "axes[1].set_title(\"Churn by Contract\", fontsize=10)\n",
    "\n",
    "plt.tight_layout()\n",
    "plt.show()\n"
   ]
  },
  {
   "cell_type": "code",
   "execution_count": 86,
   "id": "825fa627",
   "metadata": {},
   "outputs": [
    {
     "data": {
      "image/png": "[encoded data removed]",
      "text/plain": [
       "<Figure size 600x400 with 1 Axes>"
      ]
     },
     "metadata": {},
     "output_type": "display_data"
    }
   ],
   "source": [
    "\n",
    "# Partner + Dependet Churn rates\n",
    "\n",
    "# Create a combined category\n",
    "df[\"Partner_Dependents\"] = df[\"Partner\"].astype(str).str.strip() + \" & \" + df[\"Dependents\"].astype(str).str.strip()\n",
    "\n",
    "# Plot it\n",
    "plt.figure(figsize=(6,4))\n",
    "sns.barplot(data=combo_churn, x=\"Partner_Dependents\", y=\"ChurnRatePct\", order=[\"Yes & Yes\",\"Yes & No\",\"No & Yes\",\"No & No\"])\n",
    "plt.title(\"Churn Rate by Partner + Dependents (%)\", fontsize=11)\n",
    "plt.ylabel(\"Churn Rate (%)\")\n",
    "plt.xlabel(\"Partner + Dependents\")\n",
    "for i,v in enumerate(combo_churn.set_index(\"Partner_Dependents\").loc[[\"Yes & Yes\",\"Yes & No\",\"No & Yes\",\"No & No\"]][\"ChurnRatePct\"]):\n",
    "    plt.text(i, v+1, f\"{v:.1f}%\", ha=\"center\", fontsize=8)\n",
    "plt.tight_layout()\n",
    "plt.show()\n"
   ]
  },
  {
   "cell_type": "markdown",
   "id": "3682ca86",
   "metadata": {},
   "source": [
    "## 4. Data Preprocessing"
   ]
  },
  {
   "cell_type": "code",
   "execution_count": 103,
   "id": "14f1a7ed",
   "metadata": {},
   "outputs": [
    {
     "name": "stdout",
     "output_type": "stream",
     "text": [
      "\n",
      "X shape: (7043, 30)  y shape: (7043,)\n",
      "y distribution:\n",
      " ChurnFlag\n",
      "0    0.735\n",
      "1    0.265\n",
      "Name: proportion, dtype: float64\n",
      "Train: (5634, 30)  Test: (1409, 30)\n"
     ]
    },
    {
     "name": "stderr",
     "output_type": "stream",
     "text": [
      "/home/codespace/.local/lib/python3.12/site-packages/numpy/lib/_nanfunctions_impl.py:1214: RuntimeWarning: Mean of empty slice\n",
      "  return np.nanmean(a, axis, out=out, keepdims=keepdims)\n",
      "/home/codespace/.local/lib/python3.12/site-packages/numpy/lib/_nanfunctions_impl.py:1214: RuntimeWarning: Mean of empty slice\n",
      "  return np.nanmean(a, axis, out=out, keepdims=keepdims)\n"
     ]
    }
   ],
   "source": [
    "import pandas as pd\n",
    "\n",
    "# HARD RESET: reload from CSV \n",
    "raw = pd.read_csv(\"Customer Churn Project Data.csv\")\n",
    "\n",
    "# Work on a copy\n",
    "df = raw.copy()\n",
    "\n",
    "# 2) CLEAN COLUMN NAMES & TEXT LABELS \n",
    "df.columns = df.columns.str.strip()\n",
    "\n",
    "text_cols = [\n",
    "    \"Churn\",\"Partner\",\"Dependents\",\"Contract\",\"PaymentMethod\",\"gender\",\n",
    "    \"InternetService\",\"PhoneService\",\"MultipleLines\",\"OnlineSecurity\",\n",
    "    \"OnlineBackup\",\"DeviceProtection\",\"TechSupport\",\"StreamingTV\",\n",
    "    \"StreamingMovies\",\"PaperlessBilling\"\n",
    "]\n",
    "for c in text_cols:\n",
    "    if c in df.columns:\n",
    "        df[c] = df[c].astype(str).str.strip()\n",
    "\n",
    "# Keep only valid churn labels\n",
    "df = df[df[\"Churn\"].isin([\"Yes\",\"No\"])]\n",
    "\n",
    "# 3) NUMERIC COLUMNS (ONLY the numeric ones) \n",
    "num_cols = [c for c in [\"MonthlyCharges\",\"TotalCharges\",\"tenure\",\"SeniorCitizen\"] if c in df.columns]\n",
    "for c in num_cols:\n",
    "    df[c] = pd.to_numeric(df[c], errors=\"coerce\")\n",
    "\n",
    "# Fill numeric NaNs safely (do NOT drop everything)\n",
    "for c in num_cols:\n",
    "    df[c] = df[c].fillna(df[c].median())\n",
    "\n",
    "# 4) TARGET + FEATURES \n",
    "df[\"ChurnFlag\"] = (df[\"Churn\"] == \"Yes\").astype(int)\n",
    "\n",
    "# DO NOT include target in X; encode categoricals\n",
    "X = pd.get_dummies(df.drop(columns=[\"Churn\",\"ChurnFlag\"]), drop_first=True)\n",
    "y = df[\"ChurnFlag\"]\n",
    "\n",
    "print(\"\\nX shape:\", X.shape, \" y shape:\", y.shape)\n",
    "print(\"y distribution:\\n\", y.value_counts(normalize=True).round(3))\n",
    "\n",
    "# 5) SPLIT\n",
    "from sklearn.model_selection import train_test_split\n",
    "X_train, X_test, y_train, y_test = train_test_split(\n",
    "    X, y, test_size=0.2, random_state=42, stratify=y\n",
    ")\n",
    "print(\"Train:\", X_train.shape, \" Test:\", X_test.shape)\n"
   ]
  },
  {
   "cell_type": "markdown",
   "id": "92d715b5",
   "metadata": {},
   "source": [
    "## 5. Baseline Logistic Regression Model"
   ]
  },
  {
   "cell_type": "code",
   "execution_count": 106,
   "id": "259ceff2",
   "metadata": {},
   "outputs": [
    {
     "name": "stdout",
     "output_type": "stream",
     "text": [
      "X shape: (7043, 31)  y shape: (7043,)\n",
      "y balance:\n",
      " ChurnFlag\n",
      "0    0.73463\n",
      "1    0.26537\n",
      "Name: proportion, dtype: float64\n"
     ]
    }
   ],
   "source": [
    "# Keep a clean copy of df\n",
    "df_encoded = df.copy()\n",
    "\n",
    "# Make sure ChurnFlag is numeric\n",
    "df_encoded[\"ChurnFlag\"] = df_encoded[\"ChurnFlag\"].astype(int)\n",
    "\n",
    "# One-hot encode only categorical columns (exclude ChurnFlag)\n",
    "categorical_cols = df_encoded.select_dtypes(include=\"object\").columns.tolist()\n",
    "categorical_cols = [col for col in categorical_cols if col != \"ChurnFlag\"]\n",
    "\n",
    "df_encoded = pd.get_dummies(df_encoded, columns=categorical_cols, drop_first=True)\n",
    "\n",
    "# Features/Target\n",
    "X = df_encoded.drop(\"ChurnFlag\", axis=1)\n",
    "y = df_encoded[\"ChurnFlag\"]\n",
    "\n",
    "print(\"X shape:\", X.shape, \" y shape:\", y.shape)\n",
    "print(\"y balance:\\n\", y.value_counts(normalize=True))\n"
   ]
  },
  {
   "cell_type": "markdown",
   "id": "076272d5",
   "metadata": {},
   "source": [
    "## 6. Next Steps\n",
    "- Try more advanced models: Random Forest, XGBoost.\n",
    "- Handle class imbalance with SMOTE or class weights.\n",
    "- Perform hyperparameter tuning (GridSearchCV).\n",
    "- Evaluate feature importance for interpretability."
   ]
  }
 ],
 "metadata": {
  "kernelspec": {
   "display_name": "Python 3 (ipykernel)",
   "language": "python",
   "name": "python3"
  },
  "language_info": {
   "codemirror_mode": {
    "name": "ipython",
    "version": 3
   },
   "file_extension": ".py",
   "mimetype": "text/x-python",
   "name": "python",
   "nbconvert_exporter": "python",
   "pygments_lexer": "ipython3",
   "version": "3.12.1"
  }
 },
 "nbformat": 4,
 "nbformat_minor": 5
}
